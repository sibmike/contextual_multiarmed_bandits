{
 "cells": [
  {
   "cell_type": "code",
   "execution_count": 1,
   "id": "ddf58dd0",
   "metadata": {},
   "outputs": [],
   "source": [
    "from tqdm import tqdm\n",
    "from lightgbm import LGBMRegressor\n",
    "import pandas as pd\n",
    "import numpy as np"
   ]
  },
  {
   "cell_type": "code",
   "execution_count": 2,
   "id": "dd88e03d",
   "metadata": {},
   "outputs": [],
   "source": [
    "features = pd.read_parquet('features.parquet')"
   ]
  },
  {
   "cell_type": "code",
   "execution_count": 3,
   "id": "3490068a",
   "metadata": {},
   "outputs": [],
   "source": [
    "drop_clmns = ['property_location',\n",
    "'parcel_number',\n",
    "'lot',\n",
    "'current_sales_date',\n",
    "'assessed_fixtures_value',\n",
    "'assessed_improvement_value',\n",
    "'assessed_land_value',\n",
    "'assessed_personal_property_value',\n",
    "'the_geom',\n",
    "'sqft_price',\n",
    "'home_price']\n",
    "\n",
    "#     'property_location': 'object',  # part of UID\n",
    "#     'parcel_number': 'object',  # part of UID\n",
    "#     'block': 'object',  # part of UID\n",
    "#     'lot': 'object',  # part of UID\n",
    "\n",
    "features['idx'] = (\n",
    "    features.property_location +\n",
    "    features.parcel_number +\n",
    "    features.block  +\n",
    "    features.lot +\n",
    "    features.week_number.astype('str')\n",
    ")\n",
    "features.set_index('idx', inplace=True)\n",
    "main_feats = pd.read_csv('main_feats.csv').cols.iloc[:50]\n",
    "data = features.drop(columns=drop_clmns).loc[:, main_feats]\n",
    "\n",
    "target = features['home_price'] / features.home_price_lag1_roll26_rolling_median\n",
    "target_sq = features['sqft_price'] / features.sqft_price_lag1_roll26_rolling_median"
   ]
  },
  {
   "cell_type": "code",
   "execution_count": 4,
   "id": "6da68e0b",
   "metadata": {},
   "outputs": [],
   "source": [
    "target_mask = (target_sq > target_sq.quantile(0.05)) & ( target_sq < target_sq.quantile(0.95))\n",
    "week_mask = data.week_number > 51\n",
    "\n",
    "data = data.loc[target_mask & week_mask]\n",
    "target_sq = target_sq.loc[target_mask & week_mask]"
   ]
  },
  {
   "cell_type": "code",
   "execution_count": 5,
   "id": "46574c0c",
   "metadata": {},
   "outputs": [],
   "source": [
    "cats = [name for name, type_ in data.dtypes.iteritems() if type_ == 'object']\n",
    "for cat in cats:\n",
    "    data[cat] = data[cat].astype('category')\n",
    "\n",
    "cats = [name for name, type_ in data.dtypes.iteritems() if type_ == 'category']\n",
    "for cat in cats:\n",
    "    data[cat] = data[cat].cat.codes\n",
    "data = data.fillna(-999)"
   ]
  },
  {
   "cell_type": "code",
   "execution_count": 6,
   "id": "9a28aee0",
   "metadata": {},
   "outputs": [],
   "source": [
    "years, week_step = 5, 4\n",
    "\n",
    "start = 51\n",
    "end = start + 52*years\n",
    "number_of_steps = (data.week_number.max() - end)//4"
   ]
  },
  {
   "cell_type": "code",
   "execution_count": 7,
   "id": "c1535aba",
   "metadata": {},
   "outputs": [],
   "source": [
    "week_number = data.week_number\n",
    "data = data.drop(columns=['week_number','block'])"
   ]
  },
  {
   "cell_type": "code",
   "execution_count": 8,
   "id": "9b36770b",
   "metadata": {},
   "outputs": [],
   "source": [
    "# subsample_for_bin (int, optional (default=200000)) – Number of samples for constructing bins.\n",
    "# objective (str, callable or None, optional (default=None)) – Specify the learning task and the corresponding learning objective or a custom objective function to be used (see note below). Default: ‘regression’ for LGBMRegressor, ‘binary’ or ‘multiclass’ for LGBMClassifier, ‘lambdarank’ for LGBMRanker.\n",
    "# class_weight (dict, 'balanced' or None, optional (default=None)) – Weights associated with classes in the form {class_label: weight}. Use this parameter only for multi-class classification task; for binary classification task you may use is_unbalance or scale_pos_weight parameters. Note, that the usage of all these parameters will result in poor estimates of the individual class probabilities. You may want to consider performing probability calibration (https://scikit-learn.org/stable/modules/calibration.html) of your model. The ‘balanced’ mode uses the values of y to automatically adjust weights inversely proportional to class frequencies in the input data as n_samples / (n_classes * np.bincount(y)). If None, all classes are supposed to have weight one. Note, that these weights will be multiplied with sample_weight (passed through the fit method) if sample_weight is specified.\n",
    "# min_split_gain (float, optional (default=0.)) – Minimum loss reduction required to make a further partition on a leaf node of the tree.\n",
    "# min_child_weight (float, optional (default=1e-3)) – Minimum sum of instance weight (hessian) needed in a child (leaf).\n",
    "# min_child_samples (int, optional (default=20)) – Minimum number of data needed in a child (leaf).\n",
    "# subsample (float, optional (default=1.)) – Subsample ratio of the training instance.\n",
    "# subsample_freq (int, optional (default=0)) – Frequency of subsample, <=0 means no enable.\n",
    "# colsample_bytree (float, optional (default=1.)) – Subsample ratio of columns when constructing each tree."
   ]
  },
  {
   "cell_type": "code",
   "execution_count": 10,
   "id": "264a6b93",
   "metadata": {},
   "outputs": [],
   "source": [
    "#Need to refactor this:\n",
    "# NO FOR LOOPS!\n",
    "\n",
    "class QRF:\n",
    "    \"\"\"\n",
    "    Use LightGBM quantile regression.\n",
    "    http://ethen8181.github.io/machine-learning/ab_tests/quantile_regression/quantile_regression.html\n",
    "    http://ethen8181.github.io/machine-learning/ab_tests/quantile_regression/quantile_regression.html\n",
    "    \"\"\"\n",
    "\n",
    "    def __init__(self, random_state=0, quantile_alphas = [.1, 0.3, .5, 0.7, .9]):\n",
    "        params = {\n",
    "            'objective': 'quantile',\n",
    "            'metric': 'quantile',\n",
    "        }\n",
    "        self.quantile_alphas = quantile_alphas\n",
    "        self.model = {}\n",
    "        for quantile_alpha in self.quantile_alphas:\n",
    "            # to train a quantile regression, we change the objective parameter and\n",
    "            # specify the quantile value we're interested in\n",
    "            key_ = \"QRF_\"+str(int(quantile_alpha*100))\n",
    "            lgb = LGBMRegressor(\n",
    "                objective='quantile',\n",
    "                metric='quantile',\n",
    "                max_depth= 50,\n",
    "                num_leaves= 200,\n",
    "                learning_rate= 0.1,\n",
    "                n_estimators= 1000,\n",
    "                boosting_type= 'rf',\n",
    "                alpha=quantile_alpha,\n",
    "                bagging_freq = 2,\n",
    "                bagging_fraction = 0.5,\n",
    "                #colsample_bytree = 0.5\n",
    "                )\n",
    "            self.model[key_] = lgb\n",
    "\n",
    "        print(\"QRF initialized.\")\n",
    "\n",
    "    def fit(self, X, y):\n",
    "        for model_key, lgb in self.model.items():\n",
    "            lgb.fit(X, y)\n",
    "            # print(f\"QGB {model_key} trained.\")\n",
    "\n",
    "    def predict(self, X, quantile=None):\n",
    "        preds = dict()\n",
    "        for model_key, lgb in self.model.items():\n",
    "            preds[model_key]=lgb.predict(X)\n",
    "        \n",
    "        return preds  # Probbaly need to concat here?!\n",
    "\n",
    "    def finetune(self, X_train, y_train):\n",
    "        \"\"\"\n",
    "        LightGBM quantile regression.\n",
    "            # 'max_depth': 4,\n",
    "            # 'num_leaves': 15,\n",
    "            # 'learning_rate': 0.1,\n",
    "            # 'n_estimators': 100,\n",
    "            # 'boosting_type': 'gbdt'\n",
    "        \"\"\"\n",
    "\n",
    "        def objective(trial):\n",
    "            \"\"\"\n",
    "            Optuna methods for suggestions:\n",
    "            suggest_categorical(name, choices)\n",
    "                Suggest a value for the categorical parameter.\n",
    "            suggest_discrete_uniform(name, low, high, q)\n",
    "                Suggest a value for the discrete parameter.\n",
    "            suggest_float(name, low, high, *[, step, log])\n",
    "                Suggest a value for the floating point parameter.\n",
    "            suggest_int(name, low, high[, step, log])\n",
    "                Suggest a value for the integer parameter.\n",
    "            suggest_loguniform(name, low, high)\n",
    "                Suggest a value for the continuous parameter.\n",
    "            suggest_uniform(name, low, high)\n",
    "                Suggest a value for the continuous parameter.\n",
    "            \"\"\"\n",
    "            self.cv_results = dict()\n",
    "            max_depth = trial.suggest_int(\"max_depth\", 4, 30)\n",
    "            learning_rate = trial.suggest_float(\"learning_rate\", 0.01, 0.1)\n",
    "            # n_estimators = trial.suggest_int(\"n_estimators\", 10, 100)\n",
    "            for quantile_alpha in self.quantile_alphas:\n",
    "                # to train a quantile regression, we change the objective parameter and\n",
    "                # specify the quantile value we're interested in\n",
    "                model = LGBMRegressor(\n",
    "                    objective='quantile', metric='quantile',\n",
    "                    alpha=quantile_alpha, max_depth=max_depth,\n",
    "                    learning_rate=learning_rate\n",
    "                    # ,n_estimators=n_estimators\n",
    "                    )\n",
    " \n",
    "                self.cv_results[quantile_alpha] = cross_validate(model, X_train, y_train, cv=3)\n",
    "\n",
    "            score = np.mean([\n",
    "                          cv_results[\"test_score\"].mean() for cv_results\n",
    "                          in self.cv_results.values()\n",
    "                          ])\n",
    "\n",
    "            return score\n",
    "\n",
    "        self.study = optuna.create_study(direction=\"minimize\")\n",
    "        self.study.optimize(objective, n_trials=20)\n",
    "        self.best_params = self.study.best_trials[0].params\n",
    "        print(f\"Best Quantile score: {self.study.best_value}\")\n",
    "\n",
    "        # Look at self.study to get the best validation score\n",
    "        for model_key, lgb in self.model.items():\n",
    "            self.model[model_key] = LGBMRegressor(\n",
    "                objective='quantile',\n",
    "                metric='quantile',\n",
    "                max_depth=self.best_params[\"max_depth\"],\n",
    "                learning_rate=self.best_params[\"learning_rate\"])\n",
    "                    # , n_estimators=self.best_params[\"n_estimators\"]\n",
    "    \n",
    "            self.model[model_key].fit(X_train, y_train)\n",
    "            # print(f\"QGB {model_key} trained.\")\n",
    "\n",
    "        print(\"QGB finetuned and trained.\")"
   ]
  },
  {
   "cell_type": "code",
   "execution_count": 11,
   "id": "af17f752",
   "metadata": {},
   "outputs": [
    {
     "name": "stdout",
     "output_type": "stream",
     "text": [
      "QRF initialized.\n"
     ]
    },
    {
     "name": "stderr",
     "output_type": "stream",
     "text": [
      "\r",
      "  0%|                                                                                           | 0/91 [00:00<?, ?it/s]"
     ]
    },
    {
     "name": "stdout",
     "output_type": "stream",
     "text": [
      "[LightGBM] [Warning] bagging_fraction is set=0.5, subsample=1.0 will be ignored. Current value: bagging_fraction=0.5\n",
      "[LightGBM] [Warning] bagging_freq is set=2, subsample_freq=0 will be ignored. Current value: bagging_freq=2\n"
     ]
    },
    {
     "name": "stderr",
     "output_type": "stream",
     "text": [
      "\r",
      "  1%|▉                                                                                | 1/91 [01:11<1:46:32, 71.03s/it]"
     ]
    },
    {
     "name": "stdout",
     "output_type": "stream",
     "text": [
      "step 0 mape 0.16730880103273107\n",
      "[LightGBM] [Warning] bagging_fraction is set=0.5, subsample=1.0 will be ignored. Current value: bagging_fraction=0.5\n",
      "[LightGBM] [Warning] bagging_freq is set=2, subsample_freq=0 will be ignored. Current value: bagging_freq=2\n"
     ]
    },
    {
     "name": "stderr",
     "output_type": "stream",
     "text": [
      "\r",
      "  2%|█▊                                                                               | 2/91 [02:20<1:43:56, 70.07s/it]"
     ]
    },
    {
     "name": "stdout",
     "output_type": "stream",
     "text": [
      "step 1 mape 0.16708360123468777\n",
      "[LightGBM] [Warning] bagging_fraction is set=0.5, subsample=1.0 will be ignored. Current value: bagging_fraction=0.5\n",
      "[LightGBM] [Warning] bagging_freq is set=2, subsample_freq=0 will be ignored. Current value: bagging_freq=2\n"
     ]
    },
    {
     "name": "stderr",
     "output_type": "stream",
     "text": [
      "\r",
      "  3%|██▋                                                                              | 3/91 [03:25<1:39:06, 67.58s/it]"
     ]
    },
    {
     "name": "stdout",
     "output_type": "stream",
     "text": [
      "step 2 mape 0.14308054763895037\n",
      "[LightGBM] [Warning] bagging_fraction is set=0.5, subsample=1.0 will be ignored. Current value: bagging_fraction=0.5\n",
      "[LightGBM] [Warning] bagging_freq is set=2, subsample_freq=0 will be ignored. Current value: bagging_freq=2\n"
     ]
    },
    {
     "name": "stderr",
     "output_type": "stream",
     "text": [
      "\r",
      "  4%|███▌                                                                             | 4/91 [04:37<1:40:56, 69.62s/it]"
     ]
    },
    {
     "name": "stdout",
     "output_type": "stream",
     "text": [
      "step 3 mape 0.15122466170507645\n",
      "[LightGBM] [Warning] bagging_fraction is set=0.5, subsample=1.0 will be ignored. Current value: bagging_fraction=0.5\n",
      "[LightGBM] [Warning] bagging_freq is set=2, subsample_freq=0 will be ignored. Current value: bagging_freq=2\n"
     ]
    },
    {
     "name": "stderr",
     "output_type": "stream",
     "text": [
      "\r",
      "  5%|████▍                                                                            | 5/91 [05:42<1:37:09, 67.79s/it]"
     ]
    },
    {
     "name": "stdout",
     "output_type": "stream",
     "text": [
      "step 4 mape 0.13558899220723133\n",
      "[LightGBM] [Warning] bagging_fraction is set=0.5, subsample=1.0 will be ignored. Current value: bagging_fraction=0.5\n",
      "[LightGBM] [Warning] bagging_freq is set=2, subsample_freq=0 will be ignored. Current value: bagging_freq=2\n"
     ]
    },
    {
     "name": "stderr",
     "output_type": "stream",
     "text": [
      "\r",
      "  7%|█████▎                                                                           | 6/91 [06:49<1:35:38, 67.51s/it]"
     ]
    },
    {
     "name": "stdout",
     "output_type": "stream",
     "text": [
      "step 5 mape 0.1397547969956534\n",
      "[LightGBM] [Warning] bagging_fraction is set=0.5, subsample=1.0 will be ignored. Current value: bagging_fraction=0.5\n",
      "[LightGBM] [Warning] bagging_freq is set=2, subsample_freq=0 will be ignored. Current value: bagging_freq=2\n"
     ]
    },
    {
     "name": "stderr",
     "output_type": "stream",
     "text": [
      "\r",
      "  8%|██████▏                                                                          | 7/91 [07:55<1:33:45, 66.97s/it]"
     ]
    },
    {
     "name": "stdout",
     "output_type": "stream",
     "text": [
      "step 6 mape 0.11043471336299883\n",
      "[LightGBM] [Warning] bagging_fraction is set=0.5, subsample=1.0 will be ignored. Current value: bagging_fraction=0.5\n",
      "[LightGBM] [Warning] bagging_freq is set=2, subsample_freq=0 will be ignored. Current value: bagging_freq=2\n"
     ]
    },
    {
     "name": "stderr",
     "output_type": "stream",
     "text": [
      "\r",
      "  9%|███████                                                                          | 8/91 [09:18<1:39:47, 72.13s/it]"
     ]
    },
    {
     "name": "stdout",
     "output_type": "stream",
     "text": [
      "step 7 mape 0.1444844024122968\n",
      "[LightGBM] [Warning] bagging_fraction is set=0.5, subsample=1.0 will be ignored. Current value: bagging_fraction=0.5\n",
      "[LightGBM] [Warning] bagging_freq is set=2, subsample_freq=0 will be ignored. Current value: bagging_freq=2\n"
     ]
    },
    {
     "name": "stderr",
     "output_type": "stream",
     "text": [
      "\r",
      " 10%|████████                                                                         | 9/91 [10:24<1:35:54, 70.18s/it]"
     ]
    },
    {
     "name": "stdout",
     "output_type": "stream",
     "text": [
      "step 8 mape 0.13430071113703046\n",
      "[LightGBM] [Warning] bagging_fraction is set=0.5, subsample=1.0 will be ignored. Current value: bagging_fraction=0.5\n",
      "[LightGBM] [Warning] bagging_freq is set=2, subsample_freq=0 will be ignored. Current value: bagging_freq=2\n"
     ]
    },
    {
     "name": "stderr",
     "output_type": "stream",
     "text": [
      "\r",
      " 11%|████████▊                                                                       | 10/91 [11:35<1:35:15, 70.57s/it]"
     ]
    },
    {
     "name": "stdout",
     "output_type": "stream",
     "text": [
      "step 9 mape 0.14337847522538694\n",
      "[LightGBM] [Warning] bagging_fraction is set=0.5, subsample=1.0 will be ignored. Current value: bagging_fraction=0.5\n",
      "[LightGBM] [Warning] bagging_freq is set=2, subsample_freq=0 will be ignored. Current value: bagging_freq=2\n"
     ]
    },
    {
     "name": "stderr",
     "output_type": "stream",
     "text": [
      "\r",
      " 12%|█████████▋                                                                      | 11/91 [12:43<1:33:03, 69.79s/it]"
     ]
    },
    {
     "name": "stdout",
     "output_type": "stream",
     "text": [
      "step 10 mape 0.1424853327221244\n",
      "[LightGBM] [Warning] bagging_fraction is set=0.5, subsample=1.0 will be ignored. Current value: bagging_fraction=0.5\n",
      "[LightGBM] [Warning] bagging_freq is set=2, subsample_freq=0 will be ignored. Current value: bagging_freq=2\n"
     ]
    },
    {
     "name": "stderr",
     "output_type": "stream",
     "text": [
      "\r",
      " 13%|██████████▌                                                                     | 12/91 [13:53<1:31:50, 69.75s/it]"
     ]
    },
    {
     "name": "stdout",
     "output_type": "stream",
     "text": [
      "step 11 mape 0.15920922355268036\n",
      "[LightGBM] [Warning] bagging_fraction is set=0.5, subsample=1.0 will be ignored. Current value: bagging_fraction=0.5\n",
      "[LightGBM] [Warning] bagging_freq is set=2, subsample_freq=0 will be ignored. Current value: bagging_freq=2\n"
     ]
    },
    {
     "name": "stderr",
     "output_type": "stream",
     "text": [
      "\r",
      " 14%|███████████▍                                                                    | 13/91 [15:02<1:30:37, 69.71s/it]"
     ]
    },
    {
     "name": "stdout",
     "output_type": "stream",
     "text": [
      "step 12 mape 0.13532500558239063\n",
      "[LightGBM] [Warning] bagging_fraction is set=0.5, subsample=1.0 will be ignored. Current value: bagging_fraction=0.5\n",
      "[LightGBM] [Warning] bagging_freq is set=2, subsample_freq=0 will be ignored. Current value: bagging_freq=2\n"
     ]
    },
    {
     "name": "stderr",
     "output_type": "stream",
     "text": [
      "\r",
      " 15%|████████████▎                                                                   | 14/91 [16:19<1:32:12, 71.85s/it]"
     ]
    },
    {
     "name": "stdout",
     "output_type": "stream",
     "text": [
      "step 13 mape 0.14358505135127353\n",
      "[LightGBM] [Warning] bagging_fraction is set=0.5, subsample=1.0 will be ignored. Current value: bagging_fraction=0.5\n",
      "[LightGBM] [Warning] bagging_freq is set=2, subsample_freq=0 will be ignored. Current value: bagging_freq=2\n"
     ]
    },
    {
     "name": "stderr",
     "output_type": "stream",
     "text": [
      "\r",
      " 16%|█████████████▏                                                                  | 15/91 [17:31<1:30:54, 71.77s/it]"
     ]
    },
    {
     "name": "stdout",
     "output_type": "stream",
     "text": [
      "step 14 mape 0.13252339440085387\n",
      "[LightGBM] [Warning] bagging_fraction is set=0.5, subsample=1.0 will be ignored. Current value: bagging_fraction=0.5\n",
      "[LightGBM] [Warning] bagging_freq is set=2, subsample_freq=0 will be ignored. Current value: bagging_freq=2\n"
     ]
    },
    {
     "name": "stderr",
     "output_type": "stream",
     "text": [
      "\r",
      " 18%|██████████████                                                                  | 16/91 [18:43<1:29:52, 71.90s/it]"
     ]
    },
    {
     "name": "stdout",
     "output_type": "stream",
     "text": [
      "step 15 mape 0.13820254139179605\n",
      "[LightGBM] [Warning] bagging_fraction is set=0.5, subsample=1.0 will be ignored. Current value: bagging_fraction=0.5\n",
      "[LightGBM] [Warning] bagging_freq is set=2, subsample_freq=0 will be ignored. Current value: bagging_freq=2\n"
     ]
    },
    {
     "name": "stderr",
     "output_type": "stream",
     "text": [
      "\r",
      " 19%|██████████████▉                                                                 | 17/91 [20:00<1:30:32, 73.42s/it]"
     ]
    },
    {
     "name": "stdout",
     "output_type": "stream",
     "text": [
      "step 16 mape 0.13913298727174403\n",
      "[LightGBM] [Warning] bagging_fraction is set=0.5, subsample=1.0 will be ignored. Current value: bagging_fraction=0.5\n",
      "[LightGBM] [Warning] bagging_freq is set=2, subsample_freq=0 will be ignored. Current value: bagging_freq=2\n"
     ]
    },
    {
     "name": "stderr",
     "output_type": "stream",
     "text": [
      "\r",
      " 20%|███████████████▊                                                                | 18/91 [21:10<1:28:04, 72.39s/it]"
     ]
    },
    {
     "name": "stdout",
     "output_type": "stream",
     "text": [
      "step 17 mape 0.14303713663180834\n",
      "[LightGBM] [Warning] bagging_fraction is set=0.5, subsample=1.0 will be ignored. Current value: bagging_fraction=0.5\n",
      "[LightGBM] [Warning] bagging_freq is set=2, subsample_freq=0 will be ignored. Current value: bagging_freq=2\n"
     ]
    },
    {
     "name": "stderr",
     "output_type": "stream",
     "text": [
      "\r",
      " 21%|████████████████▋                                                               | 19/91 [22:19<1:25:33, 71.30s/it]"
     ]
    },
    {
     "name": "stdout",
     "output_type": "stream",
     "text": [
      "step 18 mape 0.14218622851070115\n",
      "[LightGBM] [Warning] bagging_fraction is set=0.5, subsample=1.0 will be ignored. Current value: bagging_fraction=0.5\n",
      "[LightGBM] [Warning] bagging_freq is set=2, subsample_freq=0 will be ignored. Current value: bagging_freq=2\n"
     ]
    },
    {
     "name": "stderr",
     "output_type": "stream",
     "text": [
      "\r",
      " 22%|█████████████████▌                                                              | 20/91 [23:28<1:23:43, 70.76s/it]"
     ]
    },
    {
     "name": "stdout",
     "output_type": "stream",
     "text": [
      "step 19 mape 0.14568910185852965\n",
      "[LightGBM] [Warning] bagging_fraction is set=0.5, subsample=1.0 will be ignored. Current value: bagging_fraction=0.5\n",
      "[LightGBM] [Warning] bagging_freq is set=2, subsample_freq=0 will be ignored. Current value: bagging_freq=2\n"
     ]
    },
    {
     "name": "stderr",
     "output_type": "stream",
     "text": [
      "\r",
      " 23%|██████████████████▍                                                             | 21/91 [24:37<1:21:51, 70.17s/it]"
     ]
    },
    {
     "name": "stdout",
     "output_type": "stream",
     "text": [
      "step 20 mape 0.13141838613972084\n",
      "[LightGBM] [Warning] bagging_fraction is set=0.5, subsample=1.0 will be ignored. Current value: bagging_fraction=0.5\n",
      "[LightGBM] [Warning] bagging_freq is set=2, subsample_freq=0 will be ignored. Current value: bagging_freq=2\n"
     ]
    },
    {
     "name": "stderr",
     "output_type": "stream",
     "text": [
      "\r",
      " 24%|███████████████████▎                                                            | 22/91 [25:45<1:19:54, 69.49s/it]"
     ]
    },
    {
     "name": "stdout",
     "output_type": "stream",
     "text": [
      "step 21 mape 0.13266076968089485\n",
      "[LightGBM] [Warning] bagging_fraction is set=0.5, subsample=1.0 will be ignored. Current value: bagging_fraction=0.5\n",
      "[LightGBM] [Warning] bagging_freq is set=2, subsample_freq=0 will be ignored. Current value: bagging_freq=2\n"
     ]
    },
    {
     "name": "stderr",
     "output_type": "stream",
     "text": [
      "\r",
      " 25%|████████████████████▏                                                           | 23/91 [26:56<1:19:16, 69.94s/it]"
     ]
    },
    {
     "name": "stdout",
     "output_type": "stream",
     "text": [
      "step 22 mape 0.14151306702490002\n",
      "[LightGBM] [Warning] bagging_fraction is set=0.5, subsample=1.0 will be ignored. Current value: bagging_fraction=0.5\n",
      "[LightGBM] [Warning] bagging_freq is set=2, subsample_freq=0 will be ignored. Current value: bagging_freq=2\n"
     ]
    },
    {
     "name": "stderr",
     "output_type": "stream",
     "text": [
      "\r",
      " 26%|█████████████████████                                                           | 24/91 [28:05<1:17:40, 69.56s/it]"
     ]
    },
    {
     "name": "stdout",
     "output_type": "stream",
     "text": [
      "step 23 mape 0.12938503730378498\n",
      "[LightGBM] [Warning] bagging_fraction is set=0.5, subsample=1.0 will be ignored. Current value: bagging_fraction=0.5\n",
      "[LightGBM] [Warning] bagging_freq is set=2, subsample_freq=0 will be ignored. Current value: bagging_freq=2\n"
     ]
    },
    {
     "name": "stderr",
     "output_type": "stream",
     "text": [
      "\r",
      " 27%|█████████████████████▉                                                          | 25/91 [29:12<1:15:46, 68.88s/it]"
     ]
    },
    {
     "name": "stdout",
     "output_type": "stream",
     "text": [
      "step 24 mape 0.15554994736614472\n",
      "[LightGBM] [Warning] bagging_fraction is set=0.5, subsample=1.0 will be ignored. Current value: bagging_fraction=0.5\n",
      "[LightGBM] [Warning] bagging_freq is set=2, subsample_freq=0 will be ignored. Current value: bagging_freq=2\n"
     ]
    },
    {
     "name": "stderr",
     "output_type": "stream",
     "text": [
      "\r",
      " 29%|██████████████████████▊                                                         | 26/91 [30:22<1:14:59, 69.22s/it]"
     ]
    },
    {
     "name": "stdout",
     "output_type": "stream",
     "text": [
      "step 25 mape 0.14482294099179918\n",
      "[LightGBM] [Warning] bagging_fraction is set=0.5, subsample=1.0 will be ignored. Current value: bagging_fraction=0.5\n",
      "[LightGBM] [Warning] bagging_freq is set=2, subsample_freq=0 will be ignored. Current value: bagging_freq=2\n"
     ]
    },
    {
     "name": "stderr",
     "output_type": "stream",
     "text": [
      "\r",
      " 30%|███████████████████████▋                                                        | 27/91 [31:36<1:15:20, 70.63s/it]"
     ]
    },
    {
     "name": "stdout",
     "output_type": "stream",
     "text": [
      "step 26 mape 0.155491498111854\n",
      "[LightGBM] [Warning] bagging_fraction is set=0.5, subsample=1.0 will be ignored. Current value: bagging_fraction=0.5\n",
      "[LightGBM] [Warning] bagging_freq is set=2, subsample_freq=0 will be ignored. Current value: bagging_freq=2\n"
     ]
    },
    {
     "name": "stderr",
     "output_type": "stream",
     "text": [
      "\r",
      " 31%|████████████████████████▌                                                       | 28/91 [32:44<1:13:16, 69.78s/it]"
     ]
    },
    {
     "name": "stdout",
     "output_type": "stream",
     "text": [
      "step 27 mape 0.12572505745190396\n",
      "[LightGBM] [Warning] bagging_fraction is set=0.5, subsample=1.0 will be ignored. Current value: bagging_fraction=0.5\n",
      "[LightGBM] [Warning] bagging_freq is set=2, subsample_freq=0 will be ignored. Current value: bagging_freq=2\n"
     ]
    },
    {
     "name": "stderr",
     "output_type": "stream",
     "text": [
      "\r",
      " 32%|█████████████████████████▍                                                      | 29/91 [33:51<1:11:28, 69.18s/it]"
     ]
    },
    {
     "name": "stdout",
     "output_type": "stream",
     "text": [
      "step 28 mape 0.1333034422144486\n",
      "[LightGBM] [Warning] bagging_fraction is set=0.5, subsample=1.0 will be ignored. Current value: bagging_fraction=0.5\n",
      "[LightGBM] [Warning] bagging_freq is set=2, subsample_freq=0 will be ignored. Current value: bagging_freq=2\n"
     ]
    },
    {
     "name": "stderr",
     "output_type": "stream",
     "text": [
      "\r",
      " 33%|██████████████████████████▎                                                     | 30/91 [35:01<1:10:35, 69.44s/it]"
     ]
    },
    {
     "name": "stdout",
     "output_type": "stream",
     "text": [
      "step 29 mape 0.13945546618726576\n",
      "[LightGBM] [Warning] bagging_fraction is set=0.5, subsample=1.0 will be ignored. Current value: bagging_fraction=0.5\n",
      "[LightGBM] [Warning] bagging_freq is set=2, subsample_freq=0 will be ignored. Current value: bagging_freq=2\n"
     ]
    },
    {
     "name": "stderr",
     "output_type": "stream",
     "text": [
      "\r",
      " 34%|███████████████████████████▎                                                    | 31/91 [36:11<1:09:25, 69.42s/it]"
     ]
    },
    {
     "name": "stdout",
     "output_type": "stream",
     "text": [
      "step 30 mape 0.14950824592713002\n",
      "[LightGBM] [Warning] bagging_fraction is set=0.5, subsample=1.0 will be ignored. Current value: bagging_fraction=0.5\n",
      "[LightGBM] [Warning] bagging_freq is set=2, subsample_freq=0 will be ignored. Current value: bagging_freq=2\n"
     ]
    },
    {
     "name": "stderr",
     "output_type": "stream",
     "text": [
      "\r",
      " 35%|████████████████████████████▏                                                   | 32/91 [37:19<1:07:51, 69.01s/it]"
     ]
    },
    {
     "name": "stdout",
     "output_type": "stream",
     "text": [
      "step 31 mape 0.1370418402401644\n",
      "[LightGBM] [Warning] bagging_fraction is set=0.5, subsample=1.0 will be ignored. Current value: bagging_fraction=0.5\n",
      "[LightGBM] [Warning] bagging_freq is set=2, subsample_freq=0 will be ignored. Current value: bagging_freq=2\n"
     ]
    },
    {
     "name": "stderr",
     "output_type": "stream",
     "text": [
      "\r",
      " 36%|█████████████████████████████                                                   | 33/91 [38:29<1:07:08, 69.45s/it]"
     ]
    },
    {
     "name": "stdout",
     "output_type": "stream",
     "text": [
      "step 32 mape 0.1441570374224652\n",
      "[LightGBM] [Warning] bagging_fraction is set=0.5, subsample=1.0 will be ignored. Current value: bagging_fraction=0.5\n",
      "[LightGBM] [Warning] bagging_freq is set=2, subsample_freq=0 will be ignored. Current value: bagging_freq=2\n"
     ]
    },
    {
     "name": "stderr",
     "output_type": "stream",
     "text": [
      "\r",
      " 37%|█████████████████████████████▉                                                  | 34/91 [39:41<1:06:28, 69.98s/it]"
     ]
    },
    {
     "name": "stdout",
     "output_type": "stream",
     "text": [
      "step 33 mape 0.14670023153894973\n",
      "[LightGBM] [Warning] bagging_fraction is set=0.5, subsample=1.0 will be ignored. Current value: bagging_fraction=0.5\n",
      "[LightGBM] [Warning] bagging_freq is set=2, subsample_freq=0 will be ignored. Current value: bagging_freq=2\n"
     ]
    },
    {
     "name": "stderr",
     "output_type": "stream",
     "text": [
      "\r",
      " 38%|██████████████████████████████▊                                                 | 35/91 [40:51<1:05:25, 70.09s/it]"
     ]
    },
    {
     "name": "stdout",
     "output_type": "stream",
     "text": [
      "step 34 mape 0.12747998769148536\n",
      "[LightGBM] [Warning] bagging_fraction is set=0.5, subsample=1.0 will be ignored. Current value: bagging_fraction=0.5\n",
      "[LightGBM] [Warning] bagging_freq is set=2, subsample_freq=0 will be ignored. Current value: bagging_freq=2\n"
     ]
    },
    {
     "name": "stderr",
     "output_type": "stream",
     "text": [
      "\r",
      " 40%|███████████████████████████████▋                                                | 36/91 [42:06<1:05:29, 71.44s/it]"
     ]
    },
    {
     "name": "stdout",
     "output_type": "stream",
     "text": [
      "step 35 mape 0.13148955155579065\n",
      "[LightGBM] [Warning] bagging_fraction is set=0.5, subsample=1.0 will be ignored. Current value: bagging_fraction=0.5\n",
      "[LightGBM] [Warning] bagging_freq is set=2, subsample_freq=0 will be ignored. Current value: bagging_freq=2\n"
     ]
    },
    {
     "name": "stderr",
     "output_type": "stream",
     "text": [
      "\r",
      " 41%|████████████████████████████████▌                                               | 37/91 [43:19<1:04:57, 72.18s/it]"
     ]
    },
    {
     "name": "stdout",
     "output_type": "stream",
     "text": [
      "step 36 mape 0.12823612591123978\n",
      "[LightGBM] [Warning] bagging_fraction is set=0.5, subsample=1.0 will be ignored. Current value: bagging_fraction=0.5\n",
      "[LightGBM] [Warning] bagging_freq is set=2, subsample_freq=0 will be ignored. Current value: bagging_freq=2\n"
     ]
    },
    {
     "name": "stderr",
     "output_type": "stream",
     "text": [
      "\r",
      " 42%|█████████████████████████████████▍                                              | 38/91 [44:32<1:03:43, 72.15s/it]"
     ]
    },
    {
     "name": "stdout",
     "output_type": "stream",
     "text": [
      "step 37 mape 0.1477478079107809\n",
      "[LightGBM] [Warning] bagging_fraction is set=0.5, subsample=1.0 will be ignored. Current value: bagging_fraction=0.5\n",
      "[LightGBM] [Warning] bagging_freq is set=2, subsample_freq=0 will be ignored. Current value: bagging_freq=2\n"
     ]
    },
    {
     "name": "stderr",
     "output_type": "stream",
     "text": [
      "\r",
      " 43%|██████████████████████████████████▎                                             | 39/91 [45:44<1:02:39, 72.30s/it]"
     ]
    },
    {
     "name": "stdout",
     "output_type": "stream",
     "text": [
      "step 38 mape 0.14066664923335062\n",
      "[LightGBM] [Warning] bagging_fraction is set=0.5, subsample=1.0 will be ignored. Current value: bagging_fraction=0.5\n",
      "[LightGBM] [Warning] bagging_freq is set=2, subsample_freq=0 will be ignored. Current value: bagging_freq=2\n"
     ]
    },
    {
     "name": "stderr",
     "output_type": "stream",
     "text": [
      "\r",
      " 44%|███████████████████████████████████▏                                            | 40/91 [46:58<1:01:51, 72.78s/it]"
     ]
    },
    {
     "name": "stdout",
     "output_type": "stream",
     "text": [
      "step 39 mape 0.1400866992101676\n",
      "[LightGBM] [Warning] bagging_fraction is set=0.5, subsample=1.0 will be ignored. Current value: bagging_fraction=0.5\n",
      "[LightGBM] [Warning] bagging_freq is set=2, subsample_freq=0 will be ignored. Current value: bagging_freq=2\n"
     ]
    },
    {
     "name": "stderr",
     "output_type": "stream",
     "text": [
      "\r",
      " 45%|████████████████████████████████████                                            | 41/91 [48:12<1:00:48, 72.98s/it]"
     ]
    },
    {
     "name": "stdout",
     "output_type": "stream",
     "text": [
      "step 40 mape 0.1416949532069131\n",
      "[LightGBM] [Warning] bagging_fraction is set=0.5, subsample=1.0 will be ignored. Current value: bagging_fraction=0.5\n",
      "[LightGBM] [Warning] bagging_freq is set=2, subsample_freq=0 will be ignored. Current value: bagging_freq=2\n"
     ]
    },
    {
     "name": "stderr",
     "output_type": "stream",
     "text": [
      "\r",
      " 46%|█████████████████████████████████████▊                                            | 42/91 [49:23<59:09, 72.44s/it]"
     ]
    },
    {
     "name": "stdout",
     "output_type": "stream",
     "text": [
      "step 41 mape 0.1440225094847392\n",
      "[LightGBM] [Warning] bagging_fraction is set=0.5, subsample=1.0 will be ignored. Current value: bagging_fraction=0.5\n",
      "[LightGBM] [Warning] bagging_freq is set=2, subsample_freq=0 will be ignored. Current value: bagging_freq=2\n"
     ]
    },
    {
     "name": "stderr",
     "output_type": "stream",
     "text": [
      "\r",
      " 47%|██████████████████████████████████████▋                                           | 43/91 [50:35<57:59, 72.49s/it]"
     ]
    },
    {
     "name": "stdout",
     "output_type": "stream",
     "text": [
      "step 42 mape 0.16032757079466708\n",
      "[LightGBM] [Warning] bagging_fraction is set=0.5, subsample=1.0 will be ignored. Current value: bagging_fraction=0.5\n",
      "[LightGBM] [Warning] bagging_freq is set=2, subsample_freq=0 will be ignored. Current value: bagging_freq=2\n"
     ]
    },
    {
     "name": "stderr",
     "output_type": "stream",
     "text": [
      "\r",
      " 48%|███████████████████████████████████████▋                                          | 44/91 [51:50<57:15, 73.10s/it]"
     ]
    },
    {
     "name": "stdout",
     "output_type": "stream",
     "text": [
      "step 43 mape 0.14066996612024857\n",
      "[LightGBM] [Warning] bagging_fraction is set=0.5, subsample=1.0 will be ignored. Current value: bagging_fraction=0.5\n",
      "[LightGBM] [Warning] bagging_freq is set=2, subsample_freq=0 will be ignored. Current value: bagging_freq=2\n"
     ]
    },
    {
     "name": "stderr",
     "output_type": "stream",
     "text": [
      "\r",
      " 49%|████████████████████████████████████████▌                                         | 45/91 [53:18<59:36, 77.75s/it]"
     ]
    },
    {
     "name": "stdout",
     "output_type": "stream",
     "text": [
      "step 44 mape 0.13222080851928666\n",
      "[LightGBM] [Warning] bagging_fraction is set=0.5, subsample=1.0 will be ignored. Current value: bagging_fraction=0.5\n",
      "[LightGBM] [Warning] bagging_freq is set=2, subsample_freq=0 will be ignored. Current value: bagging_freq=2\n"
     ]
    },
    {
     "name": "stderr",
     "output_type": "stream",
     "text": [
      " 60%|█████████████████████████████████████████████████▌                                | 55/91 [54:41<08:14, 13.73s/it]"
     ]
    },
    {
     "name": "stdout",
     "output_type": "stream",
     "text": [
      "step 45 mape 0.14638750337187711\n"
     ]
    },
    {
     "name": "stderr",
     "output_type": "stream",
     "text": [
      "100%|██████████████████████████████████████████████████████████████████████████████████| 91/91 [54:42<00:00, 36.07s/it]\n"
     ]
    }
   ],
   "source": [
    "qgb = QRF()\n",
    "\n",
    "for i in tqdm(range(number_of_steps)):\n",
    "    \n",
    "    start = 51 + i*week_step\n",
    "    end = start + 52*years + i*week_step\n",
    "    \n",
    "    train_week_mask = (week_number >= start) & (week_number < end)\n",
    "    val_week_mask =  (week_number >= end) & (week_number < (end + week_step))\n",
    "    train_x, val_x = data.loc[train_week_mask], data.loc[val_week_mask]\n",
    "    train_y, val_y = target_sq.loc[train_week_mask], target_sq.loc[val_week_mask]\n",
    "        \n",
    "    if val_x.shape[0] > 0:\n",
    "\n",
    "        qgb.fit(train_x, train_y)\n",
    "\n",
    "        pred = qgb.predict(val_x)\n",
    "\n",
    "        preds_df = pd.DataFrame(pred, index=val_x.index)\n",
    "        preds_df.to_csv(f'data/qrf/qrf_{i}.csv')\n",
    "        print(f\"step {i} mape {np.mean(np.abs(((pred['QRF_50'] - val_y) / val_y)))}\")"
   ]
  },
  {
   "cell_type": "code",
   "execution_count": 24,
   "id": "b8986347",
   "metadata": {},
   "outputs": [
    {
     "data": {
      "text/html": [
       "<div>\n",
       "<style scoped>\n",
       "    .dataframe tbody tr th:only-of-type {\n",
       "        vertical-align: middle;\n",
       "    }\n",
       "\n",
       "    .dataframe tbody tr th {\n",
       "        vertical-align: top;\n",
       "    }\n",
       "\n",
       "    .dataframe thead th {\n",
       "        text-align: right;\n",
       "    }\n",
       "</style>\n",
       "<table border=\"1\" class=\"dataframe\">\n",
       "  <thead>\n",
       "    <tr style=\"text-align: right;\">\n",
       "      <th></th>\n",
       "      <th>QGB_10</th>\n",
       "      <th>QGB_30</th>\n",
       "      <th>QGB_50</th>\n",
       "      <th>QGB_70</th>\n",
       "      <th>QGB_90</th>\n",
       "    </tr>\n",
       "    <tr>\n",
       "      <th>idx</th>\n",
       "      <th></th>\n",
       "      <th></th>\n",
       "      <th></th>\n",
       "      <th></th>\n",
       "      <th></th>\n",
       "    </tr>\n",
       "  </thead>\n",
       "  <tbody>\n",
       "    <tr>\n",
       "      <th>0000 1382 REVERE              AV000047610384761038312</th>\n",
       "      <td>0.709327</td>\n",
       "      <td>0.768153</td>\n",
       "      <td>0.844198</td>\n",
       "      <td>1.021801</td>\n",
       "      <td>1.292888</td>\n",
       "    </tr>\n",
       "    <tr>\n",
       "      <th>0000 1017 MENDELL             ST000047100704710070312</th>\n",
       "      <td>0.654417</td>\n",
       "      <td>0.756642</td>\n",
       "      <td>0.825409</td>\n",
       "      <td>0.939217</td>\n",
       "      <td>1.210900</td>\n",
       "    </tr>\n",
       "    <tr>\n",
       "      <th>0000 0021 REBECCA             LN000047200834720083313</th>\n",
       "      <td>0.754744</td>\n",
       "      <td>0.877340</td>\n",
       "      <td>1.003911</td>\n",
       "      <td>1.163208</td>\n",
       "      <td>1.263146</td>\n",
       "    </tr>\n",
       "    <tr>\n",
       "      <th>0000 0015 REBECCA             LN000047200804720080313</th>\n",
       "      <td>0.764802</td>\n",
       "      <td>0.971855</td>\n",
       "      <td>1.009265</td>\n",
       "      <td>1.129816</td>\n",
       "      <td>1.251631</td>\n",
       "    </tr>\n",
       "    <tr>\n",
       "      <th>0000 5900 3RD                 ST24025431B1225431B122313</th>\n",
       "      <td>0.763106</td>\n",
       "      <td>0.956758</td>\n",
       "      <td>1.025225</td>\n",
       "      <td>1.124211</td>\n",
       "      <td>1.228715</td>\n",
       "    </tr>\n",
       "    <tr>\n",
       "      <th>...</th>\n",
       "      <td>...</td>\n",
       "      <td>...</td>\n",
       "      <td>...</td>\n",
       "      <td>...</td>\n",
       "      <td>...</td>\n",
       "    </tr>\n",
       "    <tr>\n",
       "      <th>0000 0153 BRONTE              ST000056970245697024312</th>\n",
       "      <td>0.801385</td>\n",
       "      <td>1.013457</td>\n",
       "      <td>1.123499</td>\n",
       "      <td>1.206557</td>\n",
       "      <td>1.347129</td>\n",
       "    </tr>\n",
       "    <tr>\n",
       "      <th>0000 0555 PRENTISS            ST000057290215729021312</th>\n",
       "      <td>0.827797</td>\n",
       "      <td>0.928180</td>\n",
       "      <td>1.034819</td>\n",
       "      <td>1.089882</td>\n",
       "      <td>1.200138</td>\n",
       "    </tr>\n",
       "    <tr>\n",
       "      <th>0000 0062 WEST VIEW           AV000059000095900009312</th>\n",
       "      <td>0.854371</td>\n",
       "      <td>1.042147</td>\n",
       "      <td>1.132339</td>\n",
       "      <td>1.281334</td>\n",
       "      <td>1.406645</td>\n",
       "    </tr>\n",
       "    <tr>\n",
       "      <th>0000 0315 COLERIDGE           ST00005672028F5672028F313</th>\n",
       "      <td>0.766390</td>\n",
       "      <td>0.953919</td>\n",
       "      <td>0.990684</td>\n",
       "      <td>1.110878</td>\n",
       "      <td>1.286215</td>\n",
       "    </tr>\n",
       "    <tr>\n",
       "      <th>0000 0378 PARK                ST000057210675721067314</th>\n",
       "      <td>0.712439</td>\n",
       "      <td>0.816404</td>\n",
       "      <td>0.894368</td>\n",
       "      <td>1.062042</td>\n",
       "      <td>1.269498</td>\n",
       "    </tr>\n",
       "  </tbody>\n",
       "</table>\n",
       "<p>288 rows × 5 columns</p>\n",
       "</div>"
      ],
      "text/plain": [
       "                                                      QGB_10    QGB_30  \\\n",
       "idx                                                                      \n",
       "0000 1382 REVERE              AV000047610384761...  0.709327  0.768153   \n",
       "0000 1017 MENDELL             ST000047100704710...  0.654417  0.756642   \n",
       "0000 0021 REBECCA             LN000047200834720...  0.754744  0.877340   \n",
       "0000 0015 REBECCA             LN000047200804720...  0.764802  0.971855   \n",
       "0000 5900 3RD                 ST24025431B122543...  0.763106  0.956758   \n",
       "...                                                      ...       ...   \n",
       "0000 0153 BRONTE              ST000056970245697...  0.801385  1.013457   \n",
       "0000 0555 PRENTISS            ST000057290215729...  0.827797  0.928180   \n",
       "0000 0062 WEST VIEW           AV000059000095900...  0.854371  1.042147   \n",
       "0000 0315 COLERIDGE           ST00005672028F567...  0.766390  0.953919   \n",
       "0000 0378 PARK                ST000057210675721...  0.712439  0.816404   \n",
       "\n",
       "                                                      QGB_50    QGB_70  \\\n",
       "idx                                                                      \n",
       "0000 1382 REVERE              AV000047610384761...  0.844198  1.021801   \n",
       "0000 1017 MENDELL             ST000047100704710...  0.825409  0.939217   \n",
       "0000 0021 REBECCA             LN000047200834720...  1.003911  1.163208   \n",
       "0000 0015 REBECCA             LN000047200804720...  1.009265  1.129816   \n",
       "0000 5900 3RD                 ST24025431B122543...  1.025225  1.124211   \n",
       "...                                                      ...       ...   \n",
       "0000 0153 BRONTE              ST000056970245697...  1.123499  1.206557   \n",
       "0000 0555 PRENTISS            ST000057290215729...  1.034819  1.089882   \n",
       "0000 0062 WEST VIEW           AV000059000095900...  1.132339  1.281334   \n",
       "0000 0315 COLERIDGE           ST00005672028F567...  0.990684  1.110878   \n",
       "0000 0378 PARK                ST000057210675721...  0.894368  1.062042   \n",
       "\n",
       "                                                      QGB_90  \n",
       "idx                                                           \n",
       "0000 1382 REVERE              AV000047610384761...  1.292888  \n",
       "0000 1017 MENDELL             ST000047100704710...  1.210900  \n",
       "0000 0021 REBECCA             LN000047200834720...  1.263146  \n",
       "0000 0015 REBECCA             LN000047200804720...  1.251631  \n",
       "0000 5900 3RD                 ST24025431B122543...  1.228715  \n",
       "...                                                      ...  \n",
       "0000 0153 BRONTE              ST000056970245697...  1.347129  \n",
       "0000 0555 PRENTISS            ST000057290215729...  1.200138  \n",
       "0000 0062 WEST VIEW           AV000059000095900...  1.406645  \n",
       "0000 0315 COLERIDGE           ST00005672028F567...  1.286215  \n",
       "0000 0378 PARK                ST000057210675721...  1.269498  \n",
       "\n",
       "[288 rows x 5 columns]"
      ]
     },
     "execution_count": 24,
     "metadata": {},
     "output_type": "execute_result"
    }
   ],
   "source": [
    "preds_df"
   ]
  },
  {
   "cell_type": "code",
   "execution_count": 29,
   "id": "779599fd",
   "metadata": {},
   "outputs": [
    {
     "data": {
      "text/plain": [
       "<AxesSubplot:>"
      ]
     },
     "execution_count": 29,
     "metadata": {},
     "output_type": "execute_result"
    },
    {
     "data": {
      "image/png": "[encoded data removed]",
      "text/plain": [
       "<Figure size 432x288 with 1 Axes>"
      ]
     },
     "metadata": {
      "needs_background": "light"
     },
     "output_type": "display_data"
    }
   ],
   "source": [
    "week_number.hist()"
   ]
  }
 ],
 "metadata": {
  "kernelspec": {
   "display_name": "Python [conda env:prophet38]",
   "language": "python",
   "name": "conda-env-prophet38-py"
  },
  "language_info": {
   "codemirror_mode": {
    "name": "ipython",
    "version": 3
   },
   "file_extension": ".py",
   "mimetype": "text/x-python",
   "name": "python",
   "nbconvert_exporter": "python",
   "pygments_lexer": "ipython3",
   "version": "3.8.5"
  }
 },
 "nbformat": 4,
 "nbformat_minor": 5
}
