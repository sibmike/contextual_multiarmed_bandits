{
 "cells": [
  {
   "cell_type": "code",
   "execution_count": 1,
   "id": "9bde035a",
   "metadata": {},
   "outputs": [],
   "source": [
    "#!pip install vowpalwabbit"
   ]
  },
  {
   "cell_type": "markdown",
   "id": "a770403d",
   "metadata": {},
   "source": [
    "# Multi Armed Bandits\n",
    "Multiarmed bandits are laerned on outputs of the first stage models: median predictions and quantiles forecasts."
   ]
  },
  {
   "cell_type": "code",
   "execution_count": 74,
   "id": "6f62aaff",
   "metadata": {},
   "outputs": [],
   "source": [
    "from vowpalwabbit import pyvw\n",
    "import random\n",
    "import numpy as np\n",
    "import pandas as pd\n",
    "import matplotlib.pyplot as plt"
   ]
  },
  {
   "cell_type": "code",
   "execution_count": 158,
   "id": "dc36a3e0",
   "metadata": {},
   "outputs": [],
   "source": [
    "target, context = list(), list()\n",
    "for i in range(46):\n",
    "    try:\n",
    "        target += [pd.read_csv(f'data/target/target_{i}.csv')]\n",
    "        context += [(\n",
    "            pd.read_csv(f'data/ngb/ngb_{i}.csv')\n",
    "            .merge(pd.read_csv(f'data/qgb/qgb_{i}.csv'))\n",
    "            .merge(pd.read_csv(f'data/qrf/qrf_{i}.csv'))\n",
    "        )]\n",
    "    except:\n",
    "        pass\n",
    "target = pd.concat(target)\n",
    "context = pd.concat(context)\n",
    "\n",
    "actions = ('-12','-9','-6','-3','-1','0','1','3','6','9','12','-100')"
   ]
  },
  {
   "cell_type": "code",
   "execution_count": 227,
   "id": "498efa8b",
   "metadata": {},
   "outputs": [],
   "source": [
    "def get_cost(context, action, target, thresh = 0.1, helper=1, verbosity=-1):\n",
    "    \"\"\"\n",
    "    Return cost QB try to maximize reward:\n",
    "    in this setup MAB will try to find strategy that\n",
    "    results in max overbidding.\n",
    "    \"\"\"\n",
    "    # VW tries to minimize loss/cost, therefore we will pass COST as NEGATIVE reward\n",
    "    if action == '-100':\n",
    "        return 0.003  # no bid, lost time -0.3%\n",
    "    else:\n",
    "        prediction = (context['ngb_pred'] + context['QGB_50'] + context['QRF_50']) / 3\n",
    "        bid = prediction * (100 + int(action)) / 100\n",
    "        diff = ((bid - target) / target) * helper  # helper artificially reduces error\n",
    "        if verbosity > 0:\n",
    "            print(f\"Action: {action}, difference {int(diff*100)}\")\n",
    "        \n",
    "        if diff < 0:\n",
    "            return 0.005  # if no win, lost time == -0.5%\n",
    "        elif diff < thresh:\n",
    "            return -0.025  # if overbid within thresh%, earn comission +2.5%\n",
    "        else:\n",
    "            return (diff - thresh)  # if overbid by more than thresh%, loss = - excess amount"
   ]
  },
  {
   "cell_type": "code",
   "execution_count": 169,
   "id": "4a8c9fea",
   "metadata": {},
   "outputs": [
    {
     "data": {
      "text/plain": [
       "{'idx': '0000 1382 REVERE              AV000047610384761038312',\n",
       " 'ngb_pred': 0.9310648754151254,\n",
       " 'ngb_std': 0.1953512030887547,\n",
       " 'QGB_10': 0.6520281120620668,\n",
       " 'QGB_30': 0.741807843405273,\n",
       " 'QGB_50': 0.8327522214612798,\n",
       " 'QGB_70': 0.9437454141670392,\n",
       " 'QGB_90': 1.1430557008260382,\n",
       " 'QRF_10': 0.7088520940783037,\n",
       " 'QRF_30': 0.7687423351033933,\n",
       " 'QRF_50': 0.853582093179226,\n",
       " 'QRF_70': 1.020220027162755,\n",
       " 'QRF_90': 1.3033302142620018}"
      ]
     },
     "execution_count": 169,
     "metadata": {},
     "output_type": "execute_result"
    }
   ],
   "source": [
    "context.iloc[idx,:].to_dict()"
   ]
  },
  {
   "cell_type": "code",
   "execution_count": 110,
   "id": "0cc4740d",
   "metadata": {},
   "outputs": [],
   "source": [
    "# This function modifies (context, action, cost, probability) to VW friendly format\n",
    "def to_vw_example_format(context, actions, cb_label = None):\n",
    "    \n",
    "    if cb_label is not None:\n",
    "        chosen_action, cost, prob = cb_label\n",
    "        \n",
    "    # example_string = \"\"\n",
    "    # example_string += f\"shared |User f1={context['f1']} f2={context['f2']} f3={context['f3']} f4={context['f4']}\\n\"\n",
    "    \n",
    "    example_string = f\"shared |User \"\n",
    "    for k in context.keys():\n",
    "        if k != 'idx':\n",
    "            example_string += f\"{k}={context[k]} \"\n",
    "    example_string = example_string[:-1] + '\\n'\n",
    "    \n",
    "    for action in actions:\n",
    "        if cb_label is not None and action == chosen_action:\n",
    "            example_string += \"0:{}:{} \".format(cost, prob)\n",
    "            \n",
    "        example_string += \"|Action article={} \\n\".format(action)\n",
    "        \n",
    "    #Strip the last newline\n",
    "    return example_string[:-1]"
   ]
  },
  {
   "cell_type": "code",
   "execution_count": 111,
   "id": "98c07a67",
   "metadata": {},
   "outputs": [
    {
     "data": {
      "text/plain": [
       "'shared |User ngb_pred=0.9310648754151254 ngb_std=0.1953512030887547 QGB_10=0.6520281120620668 QGB_30=0.741807843405273 QGB_50=0.8327522214612798 QGB_70=0.9437454141670392 QGB_90=1.1430557008260382 QRF_10=0.7088520940783037 QRF_30=0.7687423351033933 QRF_50=0.853582093179226 QRF_70=1.020220027162755 QRF_90=1.3033302142620018\\n|Action article=-12 \\n|Action article=-9 \\n|Action article=-6 \\n|Action article=-3 \\n|Action article=0 \\n|Action article=3 \\n|Action article=6 \\n|Action article=9 \\n|Action article=12 \\n|Action article=-100 '"
      ]
     },
     "execution_count": 111,
     "metadata": {},
     "output_type": "execute_result"
    }
   ],
   "source": [
    "to_vw_example_format(ctx, actions, cb_label = None)"
   ]
  },
  {
   "cell_type": "code",
   "execution_count": 112,
   "id": "83f6a3d3",
   "metadata": {},
   "outputs": [],
   "source": [
    "def sample_custom_pmf(pmf):\n",
    "    \n",
    "    total = sum(pmf)\n",
    "    scale = 1 / total\n",
    "    pmf = [x * scale for x in pmf]\n",
    "    draw = random.random()\n",
    "    sum_prob = 0.0\n",
    "    \n",
    "    for index, prob in enumerate(pmf):\n",
    "        sum_prob += prob\n",
    "        if(sum_prob > draw):\n",
    "            return index, prob"
   ]
  },
  {
   "cell_type": "code",
   "execution_count": 113,
   "id": "9bc8ec0a",
   "metadata": {},
   "outputs": [],
   "source": [
    "def get_action(vw, context, actions):\n",
    "    \n",
    "    vw_text_example = to_vw_example_format(context, actions)\n",
    "    \n",
    "    pmf = vw.predict(vw_text_example)\n",
    "    \n",
    "    chosen_action_index, prob = sample_custom_pmf(pmf)\n",
    "    \n",
    "    return actions[chosen_action_index], prob"
   ]
  },
  {
   "cell_type": "code",
   "execution_count": 233,
   "id": "f2645c3e",
   "metadata": {},
   "outputs": [],
   "source": [
    "def run_simulation(\n",
    "    vw,\n",
    "    context,\n",
    "    target,\n",
    "    actions,\n",
    "    cost_function,\n",
    "    helper,\n",
    "    do_learn = True\n",
    "):\n",
    "    cost_sum = 0.\n",
    "    ctr, actions_list = list(), list()\n",
    "\n",
    "    for i in range(len(target)):\n",
    "        ctx = context.iloc[i, :].to_dict()\n",
    "        action, prob = get_action(vw, ctx, actions)  # get action\n",
    "\n",
    "        # 4. Get cost of the action we chose\n",
    "        cost = cost_function(ctx, action, target.iloc[i, 1], helper=helper)  # calulate cost\n",
    "        cost_sum += (-cost)  # add cost\n",
    "\n",
    "        if do_learn:\n",
    "            # 5. Inform VW of what happened so we can learn from it\n",
    "            # print(to_vw_example_format(ctx, actions, (action, cost, prob)))\n",
    "            vw_format = vw.parse(\n",
    "                to_vw_example_format(ctx, actions, (action, cost, prob)),\n",
    "                pyvw.vw.lContextualBandit\n",
    "            )\n",
    "            \n",
    "            # 6. Learn\n",
    "            vw.learn(vw_format)\n",
    "            \n",
    "            # 7. Let VW know you're done with these objects\n",
    "            vw.finish_example(vw_format)\n",
    "\n",
    "        # We negate this so that on the plot instead of minimizing cost, we are maximizing reward\n",
    "        ctr.append(-cost)\n",
    "        actions_list.append(action)\n",
    "        \n",
    "    return ctr, actions_list"
   ]
  },
  {
   "cell_type": "markdown",
   "id": "a32fb872",
   "metadata": {},
   "source": [
    "## MABs trainings:\n",
    "The predictions of the first stage models are not accurate enough, so MABs refrain from bidding in order to maximize earnings (minimizing loss). To show that MABs are capable of maximizing profits, we use 'helper' parameter to scale down predictions error and examine MAB performance with the improved predicitons.\n",
    "\n",
    "We find that MAPE has to be decreased by 70% in order for the MABs to find a profitable strategy. Moveover, we observe that MABs successfully use provided features to adjust the bid in order to maximize the profits. \n",
    "\n",
    "We will present the analysis of the result in the presentation."
   ]
  },
  {
   "cell_type": "code",
   "execution_count": 232,
   "id": "d4aa4766",
   "metadata": {},
   "outputs": [
    {
     "name": "stdout",
     "output_type": "stream",
     "text": [
      "0.015212627272569213\n",
      "0.009390423458021479\n",
      "0.0035940365279460776\n",
      "-0.002832368695412256\n",
      "-0.00345263601136319\n",
      "-0.006988279258911315\n"
     ]
    }
   ],
   "source": [
    "# Instantiate learner in VW\n",
    "\n",
    "for helper in [0.1, 0.2, 0.3, 0.4, 0.5, 1]:\n",
    "    vw = pyvw.vw(\"--cb_explore_adf -q UA  --epsilon 0.1\")\n",
    "    ctr, actions_list = run_simulation(vw, context, target, actions, get_cost, helper)\n",
    "    print(np.mean(ctr))\n",
    "    \n",
    "#plot_ctr(num_iterations, ctr)"
   ]
  },
  {
   "cell_type": "code",
   "execution_count": 234,
   "id": "3098fa18",
   "metadata": {},
   "outputs": [
    {
     "data": {
      "text/plain": [
       "(16798, 2)"
      ]
     },
     "execution_count": 234,
     "metadata": {},
     "output_type": "execute_result"
    }
   ],
   "source": [
    "target.shape"
   ]
  },
  {
   "cell_type": "code",
   "execution_count": 230,
   "id": "f6f1ed82",
   "metadata": {},
   "outputs": [
    {
     "data": {
      "text/plain": [
       "<AxesSubplot:ylabel='Frequency'>"
      ]
     },
     "execution_count": 230,
     "metadata": {},
     "output_type": "execute_result"
    },
    {
     "data": {
      "image/png": "[encoded data removed]",
      "text/plain": [
       "<Figure size 432x288 with 1 Axes>"
      ]
     },
     "metadata": {
      "needs_background": "light"
     },
     "output_type": "display_data"
    }
   ],
   "source": [
    "# MABs refreain from bidding with the deafult predictions:\n",
    "pd.Series(ctr).plot.hist()"
   ]
  }
 ],
 "metadata": {
  "kernelspec": {
   "display_name": "Python [conda env:prophet38]",
   "language": "python",
   "name": "conda-env-prophet38-py"
  },
  "language_info": {
   "codemirror_mode": {
    "name": "ipython",
    "version": 3
   },
   "file_extension": ".py",
   "mimetype": "text/x-python",
   "name": "python",
   "nbconvert_exporter": "python",
   "pygments_lexer": "ipython3",
   "version": "3.8.5"
  }
 },
 "nbformat": 4,
 "nbformat_minor": 5
}
