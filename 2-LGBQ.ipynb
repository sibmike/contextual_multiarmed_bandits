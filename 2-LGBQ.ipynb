{
 "cells": [
  {
   "cell_type": "code",
   "execution_count": 3,
   "id": "ddf58dd0",
   "metadata": {},
   "outputs": [],
   "source": [
    "from tqdm import tqdm\n",
    "from lightgbm import LGBMRegressor\n",
    "import pandas as pd\n",
    "import numpy as np"
   ]
  },
  {
   "cell_type": "code",
   "execution_count": 4,
   "id": "dd88e03d",
   "metadata": {},
   "outputs": [],
   "source": [
    "features = pd.read_parquet('features.parquet')"
   ]
  },
  {
   "cell_type": "code",
   "execution_count": 5,
   "id": "3490068a",
   "metadata": {},
   "outputs": [],
   "source": [
    "drop_clmns = ['property_location',\n",
    "'parcel_number',\n",
    "'lot',\n",
    "'current_sales_date',\n",
    "'assessed_fixtures_value',\n",
    "'assessed_improvement_value',\n",
    "'assessed_land_value',\n",
    "'assessed_personal_property_value',\n",
    "'the_geom',\n",
    "'sqft_price',\n",
    "'home_price']\n",
    "\n",
    "#     'property_location': 'object',  # part of UID\n",
    "#     'parcel_number': 'object',  # part of UID\n",
    "#     'block': 'object',  # part of UID\n",
    "#     'lot': 'object',  # part of UID\n",
    "\n",
    "features['idx'] = (\n",
    "    features.property_location +\n",
    "    features.parcel_number +\n",
    "    features.block  +\n",
    "    features.lot +\n",
    "    features.week_number.astype('str')\n",
    ")\n",
    "features.set_index('idx', inplace=True)\n",
    "main_feats = pd.read_csv('main_feats.csv').cols.iloc[:50]\n",
    "data = features.drop(columns=drop_clmns).loc[:, main_feats]\n",
    "\n",
    "target = features['home_price'] / features.home_price_lag1_roll26_rolling_median\n",
    "target_sq = features['sqft_price'] / features.sqft_price_lag1_roll26_rolling_median"
   ]
  },
  {
   "cell_type": "code",
   "execution_count": 6,
   "id": "6da68e0b",
   "metadata": {},
   "outputs": [],
   "source": [
    "target_mask = (target_sq > target_sq.quantile(0.05)) & ( target_sq < target_sq.quantile(0.95))\n",
    "week_mask = data.week_number > 51\n",
    "\n",
    "data = data.loc[target_mask & week_mask]\n",
    "target_sq = target_sq.loc[target_mask & week_mask]"
   ]
  },
  {
   "cell_type": "code",
   "execution_count": 7,
   "id": "46574c0c",
   "metadata": {},
   "outputs": [],
   "source": [
    "cats = [name for name, type_ in data.dtypes.iteritems() if type_ == 'object']\n",
    "for cat in cats:\n",
    "    data[cat] = data[cat].astype('category')\n",
    "\n",
    "cats = [name for name, type_ in data.dtypes.iteritems() if type_ == 'category']\n",
    "for cat in cats:\n",
    "    data[cat] = data[cat].cat.codes\n",
    "data = data.fillna(-999)"
   ]
  },
  {
   "cell_type": "code",
   "execution_count": 8,
   "id": "9a28aee0",
   "metadata": {},
   "outputs": [],
   "source": [
    "years, week_step = 5, 4\n",
    "\n",
    "start = 51\n",
    "end = start + 52*years\n",
    "number_of_steps = (data.week_number.max() - end)//4"
   ]
  },
  {
   "cell_type": "code",
   "execution_count": 9,
   "id": "c1535aba",
   "metadata": {},
   "outputs": [],
   "source": [
    "week_number = data.week_number\n",
    "data = data.drop(columns=['week_number','block'])"
   ]
  },
  {
   "cell_type": "code",
   "execution_count": 10,
   "id": "264a6b93",
   "metadata": {},
   "outputs": [],
   "source": [
    "#Need to refactor this:\n",
    "# NO FOR LOOPS!\n",
    "\n",
    "class QGB:\n",
    "    \"\"\"\n",
    "    Use LightGBM quantile regression.\n",
    "    http://ethen8181.github.io/machine-learning/ab_tests/quantile_regression/quantile_regression.html\n",
    "    http://ethen8181.github.io/machine-learning/ab_tests/quantile_regression/quantile_regression.html\n",
    "    \"\"\"\n",
    "\n",
    "    def __init__(self, random_state=0, quantile_alphas = [.1, 0.3, .5, 0.7, .9]):\n",
    "        params = {\n",
    "            'objective': 'quantile',\n",
    "            'metric': 'quantile',\n",
    "        }\n",
    "        self.quantile_alphas = quantile_alphas\n",
    "        self.model = {}\n",
    "        for quantile_alpha in self.quantile_alphas:\n",
    "            # to train a quantile regression, we change the objective parameter and\n",
    "            # specify the quantile value we're interested in\n",
    "            key_ = \"QGB_\"+str(int(quantile_alpha*100))\n",
    "            lgb = LGBMRegressor(\n",
    "                objective='quantile',\n",
    "                metric='quantile',\n",
    "                max_depth= 4,\n",
    "                num_leaves= 15,\n",
    "                learning_rate= 0.1,\n",
    "                n_estimators= 100,\n",
    "                boosting_type= 'gbdt',\n",
    "                alpha=quantile_alpha\n",
    "                )\n",
    "            self.model[key_] = lgb\n",
    "\n",
    "        print(\"QGB initialized.\")\n",
    "\n",
    "    def fit(self, X, y):\n",
    "        for model_key, lgb in self.model.items():\n",
    "            lgb.fit(X, y)\n",
    "            # print(f\"QGB {model_key} trained.\")\n",
    "\n",
    "    def predict(self, X, quantile=None):\n",
    "        preds = dict()\n",
    "        for model_key, lgb in self.model.items():\n",
    "            preds[model_key]=lgb.predict(X)\n",
    "        \n",
    "        return preds  # Probbaly need to concat here?!\n",
    "\n",
    "    def finetune(self, X_train, y_train):\n",
    "        \"\"\"\n",
    "        LightGBM quantile regression.\n",
    "            # 'max_depth': 4,\n",
    "            # 'num_leaves': 15,\n",
    "            # 'learning_rate': 0.1,\n",
    "            # 'n_estimators': 100,\n",
    "            # 'boosting_type': 'gbdt'\n",
    "        \"\"\"\n",
    "\n",
    "        def objective(trial):\n",
    "            \"\"\"\n",
    "            Optuna methods for suggestions:\n",
    "            suggest_categorical(name, choices)\n",
    "                Suggest a value for the categorical parameter.\n",
    "            suggest_discrete_uniform(name, low, high, q)\n",
    "                Suggest a value for the discrete parameter.\n",
    "            suggest_float(name, low, high, *[, step, log])\n",
    "                Suggest a value for the floating point parameter.\n",
    "            suggest_int(name, low, high[, step, log])\n",
    "                Suggest a value for the integer parameter.\n",
    "            suggest_loguniform(name, low, high)\n",
    "                Suggest a value for the continuous parameter.\n",
    "            suggest_uniform(name, low, high)\n",
    "                Suggest a value for the continuous parameter.\n",
    "            \"\"\"\n",
    "            self.cv_results = dict()\n",
    "            max_depth = trial.suggest_int(\"max_depth\", 4, 30)\n",
    "            learning_rate = trial.suggest_float(\"learning_rate\", 0.01, 0.1)\n",
    "            # n_estimators = trial.suggest_int(\"n_estimators\", 10, 100)\n",
    "            for quantile_alpha in self.quantile_alphas:\n",
    "                # to train a quantile regression, we change the objective parameter and\n",
    "                # specify the quantile value we're interested in\n",
    "                model = LGBMRegressor(\n",
    "                    objective='quantile', metric='quantile',\n",
    "                    alpha=quantile_alpha, max_depth=max_depth,\n",
    "                    learning_rate=learning_rate\n",
    "                    # ,n_estimators=n_estimators\n",
    "                    )\n",
    " \n",
    "                self.cv_results[quantile_alpha] = cross_validate(model, X_train, y_train, cv=3)\n",
    "\n",
    "            score = np.mean([\n",
    "                          cv_results[\"test_score\"].mean() for cv_results\n",
    "                          in self.cv_results.values()\n",
    "                          ])\n",
    "\n",
    "            return score\n",
    "\n",
    "        self.study = optuna.create_study(direction=\"minimize\")\n",
    "        self.study.optimize(objective, n_trials=20)\n",
    "        self.best_params = self.study.best_trials[0].params\n",
    "        print(f\"Best Quantile score: {self.study.best_value}\")\n",
    "\n",
    "        # Look at self.study to get the best validation score\n",
    "        for model_key, lgb in self.model.items():\n",
    "            self.model[model_key] = LGBMRegressor(\n",
    "                objective='quantile',\n",
    "                metric='quantile',\n",
    "                max_depth=self.best_params[\"max_depth\"],\n",
    "                learning_rate=self.best_params[\"learning_rate\"])\n",
    "                    # , n_estimators=self.best_params[\"n_estimators\"]\n",
    "    \n",
    "            self.model[model_key].fit(X_train, y_train)\n",
    "            # print(f\"QGB {model_key} trained.\")\n",
    "\n",
    "        print(\"QGB finetuned and trained.\")"
   ]
  },
  {
   "cell_type": "code",
   "execution_count": 14,
   "id": "af17f752",
   "metadata": {},
   "outputs": [
    {
     "name": "stdout",
     "output_type": "stream",
     "text": [
      "QGB initialized.\n"
     ]
    },
    {
     "name": "stderr",
     "output_type": "stream",
     "text": [
      "  1%|▉                                                                                  | 1/91 [00:01<02:06,  1.40s/it]"
     ]
    },
    {
     "name": "stdout",
     "output_type": "stream",
     "text": [
      "step 0 mape 0.16764122005504664\n"
     ]
    },
    {
     "name": "stderr",
     "output_type": "stream",
     "text": [
      "\r",
      "  2%|█▊                                                                                 | 2/91 [00:02<02:07,  1.43s/it]"
     ]
    },
    {
     "name": "stdout",
     "output_type": "stream",
     "text": [
      "step 1 mape 0.16307990860754323\n"
     ]
    },
    {
     "name": "stderr",
     "output_type": "stream",
     "text": [
      "\r",
      "  3%|██▋                                                                                | 3/91 [00:04<02:07,  1.44s/it]"
     ]
    },
    {
     "name": "stdout",
     "output_type": "stream",
     "text": [
      "step 2 mape 0.13944504365672908\n"
     ]
    },
    {
     "name": "stderr",
     "output_type": "stream",
     "text": [
      "\r",
      "  4%|███▋                                                                               | 4/91 [00:05<02:06,  1.45s/it]"
     ]
    },
    {
     "name": "stdout",
     "output_type": "stream",
     "text": [
      "step 3 mape 0.1453462373545989\n"
     ]
    },
    {
     "name": "stderr",
     "output_type": "stream",
     "text": [
      "\r",
      "  5%|████▌                                                                              | 5/91 [00:07<02:07,  1.48s/it]"
     ]
    },
    {
     "name": "stdout",
     "output_type": "stream",
     "text": [
      "step 4 mape 0.13326890441378603\n"
     ]
    },
    {
     "name": "stderr",
     "output_type": "stream",
     "text": [
      "\r",
      "  7%|█████▍                                                                             | 6/91 [00:08<02:10,  1.53s/it]"
     ]
    },
    {
     "name": "stdout",
     "output_type": "stream",
     "text": [
      "step 5 mape 0.1363241296673885\n"
     ]
    },
    {
     "name": "stderr",
     "output_type": "stream",
     "text": [
      "\r",
      "  8%|██████▍                                                                            | 7/91 [00:10<02:09,  1.54s/it]"
     ]
    },
    {
     "name": "stdout",
     "output_type": "stream",
     "text": [
      "step 6 mape 0.10960910900239743\n"
     ]
    },
    {
     "name": "stderr",
     "output_type": "stream",
     "text": [
      "\r",
      "  9%|███████▎                                                                           | 8/91 [00:12<02:09,  1.56s/it]"
     ]
    },
    {
     "name": "stdout",
     "output_type": "stream",
     "text": [
      "step 7 mape 0.1424132696422678\n"
     ]
    },
    {
     "name": "stderr",
     "output_type": "stream",
     "text": [
      "\r",
      " 10%|████████▏                                                                          | 9/91 [00:13<02:07,  1.56s/it]"
     ]
    },
    {
     "name": "stdout",
     "output_type": "stream",
     "text": [
      "step 8 mape 0.12875624817261463\n"
     ]
    },
    {
     "name": "stderr",
     "output_type": "stream",
     "text": [
      "\r",
      " 11%|█████████                                                                         | 10/91 [00:15<02:08,  1.59s/it]"
     ]
    },
    {
     "name": "stdout",
     "output_type": "stream",
     "text": [
      "step 9 mape 0.13711653972809415\n"
     ]
    },
    {
     "name": "stderr",
     "output_type": "stream",
     "text": [
      "\r",
      " 12%|█████████▉                                                                        | 11/91 [00:16<02:07,  1.60s/it]"
     ]
    },
    {
     "name": "stdout",
     "output_type": "stream",
     "text": [
      "step 10 mape 0.13701441009166918\n"
     ]
    },
    {
     "name": "stderr",
     "output_type": "stream",
     "text": [
      "\r",
      " 13%|██████████▊                                                                       | 12/91 [00:18<02:07,  1.62s/it]"
     ]
    },
    {
     "name": "stdout",
     "output_type": "stream",
     "text": [
      "step 11 mape 0.1528469444789649\n"
     ]
    },
    {
     "name": "stderr",
     "output_type": "stream",
     "text": [
      "\r",
      " 14%|███████████▋                                                                      | 13/91 [00:20<02:06,  1.62s/it]"
     ]
    },
    {
     "name": "stdout",
     "output_type": "stream",
     "text": [
      "step 12 mape 0.13498516482783868\n"
     ]
    },
    {
     "name": "stderr",
     "output_type": "stream",
     "text": [
      "\r",
      " 15%|████████████▌                                                                     | 14/91 [00:21<02:04,  1.62s/it]"
     ]
    },
    {
     "name": "stdout",
     "output_type": "stream",
     "text": [
      "step 13 mape 0.14404311102941575\n"
     ]
    },
    {
     "name": "stderr",
     "output_type": "stream",
     "text": [
      "\r",
      " 16%|█████████████▌                                                                    | 15/91 [00:23<02:07,  1.68s/it]"
     ]
    },
    {
     "name": "stdout",
     "output_type": "stream",
     "text": [
      "step 14 mape 0.13048279834711698\n"
     ]
    },
    {
     "name": "stderr",
     "output_type": "stream",
     "text": [
      "\r",
      " 18%|██████████████▍                                                                   | 16/91 [00:25<02:05,  1.68s/it]"
     ]
    },
    {
     "name": "stdout",
     "output_type": "stream",
     "text": [
      "step 15 mape 0.12875621481764443\n"
     ]
    },
    {
     "name": "stderr",
     "output_type": "stream",
     "text": [
      "\r",
      " 19%|███████████████▎                                                                  | 17/91 [00:27<02:06,  1.71s/it]"
     ]
    },
    {
     "name": "stdout",
     "output_type": "stream",
     "text": [
      "step 16 mape 0.135398418161462\n"
     ]
    },
    {
     "name": "stderr",
     "output_type": "stream",
     "text": [
      "\r",
      " 20%|████████████████▏                                                                 | 18/91 [00:29<02:12,  1.82s/it]"
     ]
    },
    {
     "name": "stdout",
     "output_type": "stream",
     "text": [
      "step 17 mape 0.13849696220387395\n"
     ]
    },
    {
     "name": "stderr",
     "output_type": "stream",
     "text": [
      "\r",
      " 21%|█████████████████                                                                 | 19/91 [00:30<02:10,  1.81s/it]"
     ]
    },
    {
     "name": "stdout",
     "output_type": "stream",
     "text": [
      "step 18 mape 0.13697067497956217\n"
     ]
    },
    {
     "name": "stderr",
     "output_type": "stream",
     "text": [
      "\r",
      " 22%|██████████████████                                                                | 20/91 [00:32<02:07,  1.79s/it]"
     ]
    },
    {
     "name": "stdout",
     "output_type": "stream",
     "text": [
      "step 19 mape 0.14289538200752314\n"
     ]
    },
    {
     "name": "stderr",
     "output_type": "stream",
     "text": [
      "\r",
      " 23%|██████████████████▉                                                               | 21/91 [00:34<02:07,  1.83s/it]"
     ]
    },
    {
     "name": "stdout",
     "output_type": "stream",
     "text": [
      "step 20 mape 0.130301845550845\n"
     ]
    },
    {
     "name": "stderr",
     "output_type": "stream",
     "text": [
      "\r",
      " 24%|███████████████████▊                                                              | 22/91 [00:36<02:05,  1.82s/it]"
     ]
    },
    {
     "name": "stdout",
     "output_type": "stream",
     "text": [
      "step 21 mape 0.13037229432520425\n"
     ]
    },
    {
     "name": "stderr",
     "output_type": "stream",
     "text": [
      "\r",
      " 25%|████████████████████▋                                                             | 23/91 [00:38<02:06,  1.86s/it]"
     ]
    },
    {
     "name": "stdout",
     "output_type": "stream",
     "text": [
      "step 22 mape 0.1387699987101072\n"
     ]
    },
    {
     "name": "stderr",
     "output_type": "stream",
     "text": [
      "\r",
      " 26%|█████████████████████▋                                                            | 24/91 [00:40<02:06,  1.88s/it]"
     ]
    },
    {
     "name": "stdout",
     "output_type": "stream",
     "text": [
      "step 23 mape 0.12303820256905817\n"
     ]
    },
    {
     "name": "stderr",
     "output_type": "stream",
     "text": [
      "\r",
      " 27%|██████████████████████▌                                                           | 25/91 [00:42<02:05,  1.90s/it]"
     ]
    },
    {
     "name": "stdout",
     "output_type": "stream",
     "text": [
      "step 24 mape 0.14858010408953273\n"
     ]
    },
    {
     "name": "stderr",
     "output_type": "stream",
     "text": [
      "\r",
      " 29%|███████████████████████▍                                                          | 26/91 [00:44<02:08,  1.98s/it]"
     ]
    },
    {
     "name": "stdout",
     "output_type": "stream",
     "text": [
      "step 25 mape 0.13609773519184445\n"
     ]
    },
    {
     "name": "stderr",
     "output_type": "stream",
     "text": [
      "\r",
      " 30%|████████████████████████▎                                                         | 27/91 [00:47<02:26,  2.29s/it]"
     ]
    },
    {
     "name": "stdout",
     "output_type": "stream",
     "text": [
      "step 26 mape 0.15369174633158222\n"
     ]
    },
    {
     "name": "stderr",
     "output_type": "stream",
     "text": [
      "\r",
      " 31%|█████████████████████████▏                                                        | 28/91 [00:50<02:32,  2.42s/it]"
     ]
    },
    {
     "name": "stdout",
     "output_type": "stream",
     "text": [
      "step 27 mape 0.12257841785608595\n"
     ]
    },
    {
     "name": "stderr",
     "output_type": "stream",
     "text": [
      "\r",
      " 32%|██████████████████████████▏                                                       | 29/91 [00:52<02:33,  2.47s/it]"
     ]
    },
    {
     "name": "stdout",
     "output_type": "stream",
     "text": [
      "step 28 mape 0.13014489840145063\n"
     ]
    },
    {
     "name": "stderr",
     "output_type": "stream",
     "text": [
      "\r",
      " 33%|███████████████████████████                                                       | 30/91 [00:54<02:23,  2.35s/it]"
     ]
    },
    {
     "name": "stdout",
     "output_type": "stream",
     "text": [
      "step 29 mape 0.1371690808039272\n"
     ]
    },
    {
     "name": "stderr",
     "output_type": "stream",
     "text": [
      "\r",
      " 34%|███████████████████████████▉                                                      | 31/91 [00:56<02:16,  2.27s/it]"
     ]
    },
    {
     "name": "stdout",
     "output_type": "stream",
     "text": [
      "step 30 mape 0.13849846128503648\n"
     ]
    },
    {
     "name": "stderr",
     "output_type": "stream",
     "text": [
      "\r",
      " 35%|████████████████████████████▊                                                     | 32/91 [00:59<02:16,  2.32s/it]"
     ]
    },
    {
     "name": "stdout",
     "output_type": "stream",
     "text": [
      "step 31 mape 0.12847119929375173\n"
     ]
    },
    {
     "name": "stderr",
     "output_type": "stream",
     "text": [
      "\r",
      " 36%|█████████████████████████████▋                                                    | 33/91 [01:01<02:15,  2.34s/it]"
     ]
    },
    {
     "name": "stdout",
     "output_type": "stream",
     "text": [
      "step 32 mape 0.12790474262171586\n"
     ]
    },
    {
     "name": "stderr",
     "output_type": "stream",
     "text": [
      "\r",
      " 37%|██████████████████████████████▋                                                   | 34/91 [01:03<02:08,  2.26s/it]"
     ]
    },
    {
     "name": "stdout",
     "output_type": "stream",
     "text": [
      "step 33 mape 0.13515420986389173\n"
     ]
    },
    {
     "name": "stderr",
     "output_type": "stream",
     "text": [
      "\r",
      " 38%|███████████████████████████████▌                                                  | 35/91 [01:05<02:03,  2.20s/it]"
     ]
    },
    {
     "name": "stdout",
     "output_type": "stream",
     "text": [
      "step 34 mape 0.12421765627069264\n"
     ]
    },
    {
     "name": "stderr",
     "output_type": "stream",
     "text": [
      "\r",
      " 40%|████████████████████████████████▍                                                 | 36/91 [01:08<02:00,  2.18s/it]"
     ]
    },
    {
     "name": "stdout",
     "output_type": "stream",
     "text": [
      "step 35 mape 0.12982418656035805\n"
     ]
    },
    {
     "name": "stderr",
     "output_type": "stream",
     "text": [
      "\r",
      " 41%|█████████████████████████████████▎                                                | 37/91 [01:10<01:57,  2.18s/it]"
     ]
    },
    {
     "name": "stdout",
     "output_type": "stream",
     "text": [
      "step 36 mape 0.11926146091566683\n"
     ]
    },
    {
     "name": "stderr",
     "output_type": "stream",
     "text": [
      "\r",
      " 42%|██████████████████████████████████▏                                               | 38/91 [01:12<01:52,  2.13s/it]"
     ]
    },
    {
     "name": "stdout",
     "output_type": "stream",
     "text": [
      "step 37 mape 0.14207200627457653\n"
     ]
    },
    {
     "name": "stderr",
     "output_type": "stream",
     "text": [
      "\r",
      " 43%|███████████████████████████████████▏                                              | 39/91 [01:14<01:55,  2.21s/it]"
     ]
    },
    {
     "name": "stdout",
     "output_type": "stream",
     "text": [
      "step 38 mape 0.13591284040521012\n"
     ]
    },
    {
     "name": "stderr",
     "output_type": "stream",
     "text": [
      "\r",
      " 44%|████████████████████████████████████                                              | 40/91 [01:16<01:53,  2.23s/it]"
     ]
    },
    {
     "name": "stdout",
     "output_type": "stream",
     "text": [
      "step 39 mape 0.12901127783169145\n"
     ]
    },
    {
     "name": "stderr",
     "output_type": "stream",
     "text": [
      "\r",
      " 45%|████████████████████████████████████▉                                             | 41/91 [01:19<01:54,  2.30s/it]"
     ]
    },
    {
     "name": "stdout",
     "output_type": "stream",
     "text": [
      "step 40 mape 0.14064282127724748\n"
     ]
    },
    {
     "name": "stderr",
     "output_type": "stream",
     "text": [
      "\r",
      " 46%|█████████████████████████████████████▊                                            | 42/91 [01:21<01:50,  2.26s/it]"
     ]
    },
    {
     "name": "stdout",
     "output_type": "stream",
     "text": [
      "step 41 mape 0.1468393774853582\n"
     ]
    },
    {
     "name": "stderr",
     "output_type": "stream",
     "text": [
      "\r",
      " 47%|██████████████████████████████████████▋                                           | 43/91 [01:23<01:48,  2.26s/it]"
     ]
    },
    {
     "name": "stdout",
     "output_type": "stream",
     "text": [
      "step 42 mape 0.15784500746897256\n"
     ]
    },
    {
     "name": "stderr",
     "output_type": "stream",
     "text": [
      "\r",
      " 48%|███████████████████████████████████████▋                                          | 44/91 [01:25<01:43,  2.21s/it]"
     ]
    },
    {
     "name": "stdout",
     "output_type": "stream",
     "text": [
      "step 43 mape 0.13011805603580756\n"
     ]
    },
    {
     "name": "stderr",
     "output_type": "stream",
     "text": [
      "\r",
      " 49%|████████████████████████████████████████▌                                         | 45/91 [01:28<01:41,  2.21s/it]"
     ]
    },
    {
     "name": "stdout",
     "output_type": "stream",
     "text": [
      "step 44 mape 0.12308118441976379\n"
     ]
    },
    {
     "name": "stderr",
     "output_type": "stream",
     "text": [
      " 55%|█████████████████████████████████████████████                                     | 50/91 [01:30<00:34,  1.18it/s]"
     ]
    },
    {
     "name": "stdout",
     "output_type": "stream",
     "text": [
      "step 45 mape 0.1326907458599087\n"
     ]
    },
    {
     "name": "stderr",
     "output_type": "stream",
     "text": [
      "100%|██████████████████████████████████████████████████████████████████████████████████| 91/91 [01:31<00:00,  1.00s/it]\n"
     ]
    }
   ],
   "source": [
    "qgb = QGB()\n",
    "\n",
    "for i in tqdm(range(number_of_steps)):\n",
    "    \n",
    "    start = 51 + i*week_step\n",
    "    end = start + 52*years + i*week_step\n",
    "    \n",
    "    train_week_mask = (week_number >= start) & (week_number < end)\n",
    "    val_week_mask =  (week_number >= end) & (week_number < (end + week_step))\n",
    "    train_x, val_x = data.loc[train_week_mask], data.loc[val_week_mask]\n",
    "    train_y, val_y = target_sq.loc[train_week_mask], target_sq.loc[val_week_mask]\n",
    "        \n",
    "    if val_x.shape[0] > 0:\n",
    "\n",
    "        qgb.fit(train_x, train_y)\n",
    "\n",
    "        pred = qgb.predict(val_x)\n",
    "\n",
    "        preds_df = pd.DataFrame(pred, index=val_x.index)\n",
    "        preds_df.to_csv(f'data/qgb/qgb_{i}.csv')\n",
    "        val_y.to_csv(f'data/target/target_{i}.csv')\n",
    "        print(f\"step {i} mape {np.mean(np.abs(((pred['QGB_50'] - val_y) / val_y)))}\")"
   ]
  },
  {
   "cell_type": "code",
   "execution_count": 28,
   "id": "b8986347",
   "metadata": {},
   "outputs": [
    {
     "data": {
      "text/plain": [
       "91"
      ]
     },
     "execution_count": 28,
     "metadata": {},
     "output_type": "execute_result"
    }
   ],
   "source": [
    "number_of_steps"
   ]
  },
  {
   "cell_type": "code",
   "execution_count": 29,
   "id": "779599fd",
   "metadata": {},
   "outputs": [
    {
     "data": {
      "text/plain": [
       "<AxesSubplot:>"
      ]
     },
     "execution_count": 29,
     "metadata": {},
     "output_type": "execute_result"
    },
    {
     "data": {
      "image/png": "[encoded data removed]",
      "text/plain": [
       "<Figure size 432x288 with 1 Axes>"
      ]
     },
     "metadata": {
      "needs_background": "light"
     },
     "output_type": "display_data"
    }
   ],
   "source": [
    "week_number.hist()"
   ]
  }
 ],
 "metadata": {
  "kernelspec": {
   "display_name": "Python [conda env:prophet38]",
   "language": "python",
   "name": "conda-env-prophet38-py"
  },
  "language_info": {
   "codemirror_mode": {
    "name": "ipython",
    "version": 3
   },
   "file_extension": ".py",
   "mimetype": "text/x-python",
   "name": "python",
   "nbconvert_exporter": "python",
   "pygments_lexer": "ipython3",
   "version": "3.8.5"
  }
 },
 "nbformat": 4,
 "nbformat_minor": 5
}
